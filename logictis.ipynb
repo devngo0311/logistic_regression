{
 "cells": [
  {
   "cell_type": "markdown",
   "id": "dc5892e4",
   "metadata": {},
   "source": [
    "# lib"
   ]
  },
  {
   "cell_type": "code",
   "execution_count": 1,
   "id": "c3b7562f",
   "metadata": {},
   "outputs": [],
   "source": [
    "import pandas as pd\n",
    "import numpy as np\n",
    "import matplotlib.pyplot as plt\n",
    "from sklearn.model_selection import train_test_split"
   ]
  },
  {
   "cell_type": "code",
   "execution_count": 2,
   "id": "35291e4c",
   "metadata": {},
   "outputs": [],
   "source": [
    "dataframe = pd.read_csv('D:\\Data\\python\\Machine_Leaarning\\csv\\data_classification.csv')\n",
    "data = dataframe.values.tolist()"
   ]
  },
  {
   "cell_type": "code",
   "execution_count": 4,
   "id": "9fc31b82",
   "metadata": {},
   "outputs": [],
   "source": [
    "true_values = []\n",
    "false_values = []\n",
    "for item in dataframe.values:\n",
    "    if(item[2] == 1):\n",
    "        true_values.append(item)\n",
    "    else:\n",
    "        false_values.append(item)"
   ]
  },
  {
   "cell_type": "code",
   "execution_count": 5,
   "id": "a5afd2fd",
   "metadata": {},
   "outputs": [],
   "source": [
    "a = dataframe.drop('C', axis = 1)\n",
    "b = dataframe['C']\n",
    "features = np.array(a.values.tolist()) \n",
    "labels = np.array(b.values.tolist()) "
   ]
  },
  {
   "cell_type": "code",
   "execution_count": 6,
   "id": "6bba65f9",
   "metadata": {},
   "outputs": [],
   "source": [
    "labels = labels.reshape((100,1))\n",
    "features = np.concatenate((np.ones((features.shape[0], 1)),features), axis = 1)"
   ]
  },
  {
   "cell_type": "code",
   "execution_count": 7,
   "id": "e42f1c48",
   "metadata": {},
   "outputs": [],
   "source": [
    "X_train, Y_train, X_test, Y_test = train_test_split(features, labels, test_size=0.1, random_state=10)"
   ]
  },
  {
   "cell_type": "markdown",
   "id": "17b2c3e7",
   "metadata": {},
   "source": [
    "## thiết lập hàm xác suất cho model"
   ]
  },
  {
   "cell_type": "code",
   "execution_count": 8,
   "id": "4dbe37dc",
   "metadata": {},
   "outputs": [],
   "source": [
    "def sigmoid(s):\n",
    "    return 1/(1+np.exp(-s))"
   ]
  },
  {
   "cell_type": "markdown",
   "id": "e0b9c4d9",
   "metadata": {},
   "source": [
    "## khởi tạo giá trị của weight là 3 biến ngẫu nhiên"
   ]
  },
  {
   "cell_type": "code",
   "execution_count": 9,
   "id": "ae0cdf00",
   "metadata": {},
   "outputs": [],
   "source": [
    "def W():\n",
    "    np.random.seed(9)\n",
    "    weights = np.array(np.random.random_sample((3,))) \n",
    "    weights = weights.reshape((3,1))\n",
    "    return weights"
   ]
  },
  {
   "cell_type": "markdown",
   "id": "c38e7712",
   "metadata": {},
   "source": [
    "## tính xác suất của toàn bộ tập giá trị test"
   ]
  },
  {
   "cell_type": "code",
   "execution_count": 10,
   "id": "db3d361b",
   "metadata": {},
   "outputs": [],
   "source": [
    "def predict(X_train, weights):\n",
    "    k = []\n",
    "    for i in range(len(X_train)):\n",
    "        s = sigmoid(np.dot((X_train[i].T),weights))\n",
    "        k.append(s)\n",
    "    return np.array(k)"
   ]
  },
  {
   "cell_type": "markdown",
   "id": "45451ddc",
   "metadata": {},
   "source": [
    "## hàm lỗi ( Loss function)"
   ]
  },
  {
   "cell_type": "code",
   "execution_count": 11,
   "id": "05bad4e7",
   "metadata": {},
   "outputs": [],
   "source": [
    "def loss_function(datas, labels, weights):\n",
    "    k = []\n",
    "    predictions = predict(datas, weights)\n",
    "    for i in range(len(datas)):\n",
    "        if(labels[i] == 1):\n",
    "            k.append(-(np.log(predictions[i])))\n",
    "        else:\n",
    "            k.append(-(np.log(1 - predictions[i])))\n",
    "    return ((np.array(k).sum())/len(datas))"
   ]
  },
  {
   "cell_type": "code",
   "execution_count": 12,
   "id": "2a5e7388",
   "metadata": {},
   "outputs": [],
   "source": [
    "def gradient_descent(datas, labels, weights, learning_rate):\n",
    "    predition = predict(datas, weights)\n",
    "    gd = ((np.dot(datas.T, (predition - labels)))/len(datas))*learning_rate\n",
    "    weights = weights - gd\n",
    "    return weights"
   ]
  },
  {
   "cell_type": "code",
   "execution_count": 13,
   "id": "bddc2669",
   "metadata": {},
   "outputs": [],
   "source": [
    "def training(datas, labels, weights, learning_rate, epoch):\n",
    "    loss = []\n",
    "    for i in range(epoch):\n",
    "        weights = gradient_descent(datas, labels, weights, learning_rate)\n",
    "        loss.append(loss_function(datas, labels, weights))\n",
    "    return weights, loss"
   ]
  },
  {
   "cell_type": "code",
   "execution_count": 14,
   "id": "ec7c11cf",
   "metadata": {},
   "outputs": [],
   "source": [
    "def loss_map(epoch, loss):\n",
    "    plt.title('Loss function')\n",
    "    iters = np.arange(epoch)\n",
    "    plt.plot(iters,loss)\n",
    "    plt.xlabel('epoch');\n",
    "    plt.ylabel('loss values')\n",
    "    plt.show()"
   ]
  },
  {
   "cell_type": "code",
   "execution_count": 15,
   "id": "2c0666e8",
   "metadata": {},
   "outputs": [],
   "source": [
    "def bieudo( weight ):\n",
    "    t = 0.6\n",
    "    x = np.array(true_values).T[0]\n",
    "    y = np.array(true_values).T[1]\n",
    "    a = np.array(false_values).T[0]\n",
    "    b = np.array(false_values).T[1]\n",
    "    plt.scatter(x,y,color='red');\n",
    "    plt.scatter(a,b,color='green');\n",
    "    plt.scatter(4,6,color='y');\n",
    "    plt.plot((0, 10),(-(weight[0]+0*weight[1]+ np.log(1/t-1))/weight[2], -(weight[0] + 10*weight[1]+ np.log(1/t-1))/weight[2]), 'b')\n",
    "    plt.show()"
   ]
  },
  {
   "cell_type": "code",
   "execution_count": 16,
   "id": "8e0e9c24",
   "metadata": {},
   "outputs": [],
   "source": [
    "def sub(epoch, loss, weight):\n",
    "    loss_map(epoch, loss)\n",
    "    bieudo(weight)"
   ]
  },
  {
   "cell_type": "code",
   "execution_count": 17,
   "id": "1ee4df33",
   "metadata": {},
   "outputs": [
    {
     "data": {
      "image/png": "[encoded data removed]",
      "text/plain": [
       "<Figure size 432x288 with 1 Axes>"
      ]
     },
     "metadata": {
      "needs_background": "light"
     },
     "output_type": "display_data"
    },
    {
     "data": {
      "image/png": "[encoded data removed]",
      "text/plain": [
       "<Figure size 432x288 with 1 Axes>"
      ]
     },
     "metadata": {
      "needs_background": "light"
     },
     "output_type": "display_data"
    }
   ],
   "source": [
    "# def main():\n",
    "learning_rate = 0.015\n",
    "epoch = 5000\n",
    "weights = W()\n",
    "X_train, Y_train, X_test, Y_test = train_test_split(features, labels, test_size=0.1, random_state=10)\n",
    "weight, loss = training(X_train, X_test, weights, learning_rate, epoch)\n",
    "sub(epoch, loss, weight)"
   ]
  },
  {
   "cell_type": "code",
   "execution_count": 18,
   "id": "88f553e1",
   "metadata": {},
   "outputs": [],
   "source": [
    "def test(test_data, test_labels, weight):\n",
    "    resual = []\n",
    "    for i in range(len(test_data)):\n",
    "        resual.append(sigmoid(np.dot((test_data[i].T),weight)))\n",
    "    return np.array(resual)"
   ]
  },
  {
   "cell_type": "code",
   "execution_count": 19,
   "id": "9208c2ec",
   "metadata": {},
   "outputs": [],
   "source": [
    "def resual():\n",
    "    count = 0\n",
    "    re = test(Y_train, Y_test, weight)\n",
    "    for i in range(len(Y_test)):\n",
    "        if abs(re[i] -Y_test[i]) >= 0.45:\n",
    "            count = count + 1\n",
    "    return count"
   ]
  },
  {
   "cell_type": "code",
   "execution_count": 20,
   "id": "af1bf99e",
   "metadata": {},
   "outputs": [
    {
     "name": "stdout",
     "output_type": "stream",
     "text": [
      "do chinh xac cua mo hinh la 80% tren 10 tap gia tri test\n"
     ]
    }
   ],
   "source": [
    "print(\"do chinh xac cua mo hinh la {0}% tren {1} tap gia tri test\".format((len(Y_test) - resual())*10, 10))"
   ]
  }
 ],
 "metadata": {
  "kernelspec": {
   "display_name": "Python 3 (ipykernel)",
   "language": "python",
   "name": "python3"
  },
  "language_info": {
   "codemirror_mode": {
    "name": "ipython",
    "version": 3
   },
   "file_extension": ".py",
   "mimetype": "text/x-python",
   "name": "python",
   "nbconvert_exporter": "python",
   "pygments_lexer": "ipython3",
   "version": "3.8.0"
  }
 },
 "nbformat": 4,
 "nbformat_minor": 5
}
